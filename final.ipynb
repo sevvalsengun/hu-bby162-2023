{
  "nbformat": 4,
  "nbformat_minor": 0,
  "metadata": {
    "colab": {
      "provenance": [],
      "mount_file_id": "1Bln6Xo4BDUZobKRFZyWqc0LWMVYt3lDu",
      "authorship_tag": "ABX9TyPNsESSIJygVdeFAieak/Km",
      "include_colab_link": true
    },
    "kernelspec": {
      "name": "python3",
      "display_name": "Python 3"
    },
    "language_info": {
      "name": "python"
    }
  },
  "cells": [
    {
      "cell_type": "markdown",
      "metadata": {
        "id": "view-in-github",
        "colab_type": "text"
      },
      "source": [
        "<a href=\"https://colab.research.google.com/github/sevvalsengun/hu-bby162-2023/blob/main/final.ipynb\" target=\"_parent\"><img src=\"https://colab.research.google.com/assets/colab-badge.svg\" alt=\"Open In Colab\"/></a>"
      ]
    },
    {
      "cell_type": "code",
      "source": [
        "#Yapılabilecek İşlemler Menüsü\n",
        "print(\"Katalog uygulamasına hoşgeldiniz.\")\n",
        "print(\"1. Eserlerin listelenmesi\")\n",
        "print(\"2. Yeni eser ekleme\")\n",
        "print(\"3. Eser Silme\")\n",
        "print(\"4. Kataloğun temizlenmesi\")\n",
        "print(\"5. Arama yapma\")"
      ],
      "metadata": {
        "colab": {
          "base_uri": "https://localhost:8080/"
        },
        "id": "JKK3jltbigX7",
        "outputId": "c6605fdc-3a67-434a-92e5-eedcaab0e716"
      },
      "execution_count": 10,
      "outputs": [
        {
          "output_type": "stream",
          "name": "stdout",
          "text": [
            "Katalog uygulamasına hoşgeldiniz.\n",
            "1. Eserlerin listelenmesi\n",
            "2. Yeni eser ekleme\n",
            "3. Eser Silme\n",
            "4. Kataloğun temizlenmesi\n",
            "5. Arama yapma\n"
          ]
        }
      ]
    },
    {
      "cell_type": "code",
      "source": [
        "# Katalogdaki eserlerin listelenmesi\n",
        "\n",
        "dosya = \"/content/drive/MyDrive/Colab Notebooks/veri.txt\"\n",
        "\n",
        "f = open(dosya, \"r\") \n",
        "for line in f.readlines():\n",
        "    print(line)\n",
        "f.close()"
      ],
      "metadata": {
        "colab": {
          "base_uri": "https://localhost:8080/"
        },
        "id": "GXdEaRW8WP6w",
        "outputId": "5ca3279e-f6c4-47e5-ad5c-6580556c11ba"
      },
      "execution_count": 6,
      "outputs": [
        {
          "output_type": "stream",
          "name": "stdout",
          "text": [
            "Kürk Mantolu Madonna| Sabahattin Ali| 1943\n",
            "\n",
            "İki Şehrin Hikayesi| Charles Dickens| 1859\n",
            "\n",
            "Dokuzuncu Hariciye Koğuşu| Peyami Safa| 1930\n",
            "\n",
            "Kara Kitap| Orhan Pamuk| 1990\n",
            "\n",
            "Beyaz Zambaklar Ülkesinde| Grigory Petrov| 1923\n",
            "\n"
          ]
        }
      ]
    },
    {
      "cell_type": "code",
      "source": [
        "# Kataloğa yeni eser ekleme\n",
        "\n",
        "dosya = \"/content/drive/MyDrive/Colab Notebooks/veri.txt\"\n",
        "\n",
        "f = open(dosya, 'a') \n",
        "\n",
        "eserAdi = input(\"Eklemek istediğiniz eserin adını giriniz: \")\n",
        "yazarAdi = input(\"Yazarın adını giriniz: \")\n",
        "basimYili = input(\"Eserin basım yılını giriniz: \")\n",
        "f.write(f\"{eserAdi}| {yazarAdi}| {basimYili}\") \n",
        "f.close()\n",
        "print(\"Yeni eser eklendi!\")"
      ],
      "metadata": {
        "colab": {
          "base_uri": "https://localhost:8080/"
        },
        "id": "vsjWMgN1Xa0G",
        "outputId": "702ce58c-75d3-4ec3-b0f6-b4698140b35e"
      },
      "execution_count": 2,
      "outputs": [
        {
          "output_type": "stream",
          "name": "stdout",
          "text": [
            "Eklemek istediğiniz eserin adını giriniz: Gurur ve Önyargı\n",
            "Yazarın adını giriniz: Jane Austen\n",
            "Eserin basım yılını giriniz: 1866\n",
            "Yeni eser eklendi!\n"
          ]
        }
      ]
    },
    {
      "cell_type": "code",
      "source": [
        "# Katalogdan eser silme\n",
        "\n",
        "dosya = \"/content/drive/MyDrive/Colab Notebooks/veri.txt\"\n",
        "\n",
        "sil = input(\"Silmek istediğiniz eserin adını giriniz: \")\n",
        "with open(dosya, 'r') as f:\n",
        "  lines = f.readlines()\n",
        "with open(dosya, 'w') as f:\n",
        "  for line in lines:\n",
        "    if sil not in line:\n",
        "      f.write(line)\n",
        "print(\"Seçtiğiniz eser başarıyla silindi!\")"
      ],
      "metadata": {
        "colab": {
          "base_uri": "https://localhost:8080/"
        },
        "id": "sWHkkOoX4uFK",
        "outputId": "e07760c7-9228-4b1c-c8a6-c44479aea3ab"
      },
      "execution_count": 8,
      "outputs": [
        {
          "name": "stdout",
          "output_type": "stream",
          "text": [
            "Silmek istediğiniz kitabın adını giriniz: Kara Kitap\n"
          ]
        }
      ]
    },
    {
      "cell_type": "code",
      "source": [
        "# Kataloğun temizlenmesi\n",
        "\n",
        "dosya = \"/content/drive/MyDrive/Colab Notebooks/veri.txt\"\n",
        "\n",
        "f = open(dosya, 'w')\n",
        "f.write(\"\")\n",
        "f.close()\n",
        "print(\"Katalog temizlendi!\")"
      ],
      "metadata": {
        "colab": {
          "base_uri": "https://localhost:8080/"
        },
        "id": "ZnvsDQqrRbZ8",
        "outputId": "3b7825bf-6c2e-4912-e95b-a2c9afe318cb"
      },
      "execution_count": 2,
      "outputs": [
        {
          "output_type": "stream",
          "name": "stdout",
          "text": [
            "Katalog temizlendi!\n"
          ]
        }
      ]
    },
    {
      "cell_type": "code",
      "source": [
        "# Katalogda arama yapma\n",
        "\n",
        "dosya = \"/content/drive/MyDrive/Colab Notebooks/veri.txt\"\n",
        "\n",
        "arama = input(\"Lütfen aratmak istediğiniz kelimeyi giriniz: \")\n",
        "f = open(dosya, \"r\")\n",
        "for sonuc in f:\n",
        "  if arama in sonuc:\n",
        "    print(sonuc) "
      ],
      "metadata": {
        "colab": {
          "base_uri": "https://localhost:8080/"
        },
        "id": "ee-uGC-OTBpH",
        "outputId": "421abe17-5269-4a6d-9257-96108c249067"
      },
      "execution_count": 7,
      "outputs": [
        {
          "output_type": "stream",
          "name": "stdout",
          "text": [
            "Lütfen aratmak istediğiniz kelimeyi giriniz: Kara\n",
            "Kara Kitap| Orhan Pamuk| 1990\n",
            "\n"
          ]
        }
      ]
    }
  ]
}