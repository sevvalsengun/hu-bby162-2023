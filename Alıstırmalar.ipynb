{
  "nbformat": 4,
  "nbformat_minor": 0,
  "metadata": {
    "colab": {
      "provenance": [],
      "authorship_tag": "ABX9TyNP7ZFGnFjLNeY2Zwu35QeW",
      "include_colab_link": true
    },
    "kernelspec": {
      "name": "python3",
      "display_name": "Python 3"
    },
    "language_info": {
      "name": "python"
    }
  },
  "cells": [
    {
      "cell_type": "markdown",
      "metadata": {
        "id": "view-in-github",
        "colab_type": "text"
      },
      "source": [
        "<a href=\"https://colab.research.google.com/github/sevvalsengun/hu-bby162-2023/blob/main/Al%C4%B1st%C4%B1rmalar.ipynb\" target=\"_parent\"><img src=\"https://colab.research.google.com/assets/colab-badge.svg\" alt=\"Open In Colab\"/></a>"
      ]
    },
    {
      "cell_type": "markdown",
      "source": [
        "Python ile ilgili alıştırmalarım bu defterde yer alacak..."
      ],
      "metadata": {
        "id": "w0bOy8hrCsa2"
      }
    },
    {
      "cell_type": "markdown",
      "source": [
        "Aşağıdaki kod bloğuna ilk Python kodumu yazıyorum...\n"
      ],
      "metadata": {
        "id": "UkvjBAjNC63B"
      }
    },
    {
      "cell_type": "markdown",
      "source": [
        "print(\"Merhaba Dünya!!!\")"
      ],
      "metadata": {
        "id": "MRbCTpZMDdh-"
      }
    },
    {
      "cell_type": "code",
      "execution_count": null,
      "metadata": {
        "id": "zzZkIRpxx0yL",
        "colab": {
          "base_uri": "https://localhost:8080/"
        },
        "outputId": "eb086d69-2e2f-4586-ec06-98055fde9f36"
      },
      "outputs": [
        {
          "output_type": "stream",
          "name": "stdout",
          "text": [
            "Merhaba Dünya!!!\n"
          ]
        }
      ],
      "source": [
        "print(\"Merhaba Dünya!!!\")"
      ]
    },
    {
      "cell_type": "markdown",
      "source": [
        "Aşağıdaki kod bloğuna internetten bulduğum bir kodu yazıyorum..."
      ],
      "metadata": {
        "id": "nw7v1gD_EG8Y"
      }
    },
    {
      "cell_type": "code",
      "source": [
        "from random import randint\n",
        "i = 0\n",
        "secilenler = [0,0,0,0,0,0]\n",
        "for rastgele in secilenler:\n",
        "    while i < len(secilenler):\n",
        "        secilen = randint(1, 49)\n",
        "        if secilen not in secilenler:\n",
        "            secilenler[i] = secilen\n",
        "            i+=1\n",
        "    print(sorted(secilenler))\n",
        "    i=0"
      ],
      "metadata": {
        "colab": {
          "base_uri": "https://localhost:8080/"
        },
        "id": "rBoBgchMER7h",
        "outputId": "6ae971b0-9ca4-45d5-cc1f-07137c5695ba"
      },
      "execution_count": null,
      "outputs": [
        {
          "output_type": "stream",
          "name": "stdout",
          "text": [
            "[1, 4, 6, 8, 15, 36]\n",
            "[10, 15, 18, 39, 47, 48]\n",
            "[7, 14, 29, 31, 33, 36]\n",
            "[12, 16, 18, 20, 22, 40]\n",
            "[10, 14, 15, 30, 32, 37]\n",
            "[6, 8, 17, 31, 36, 49]\n"
          ]
        }
      ]
    },
    {
      "cell_type": "markdown",
      "source": [
        "Değişken Alıştırmaları"
      ],
      "metadata": {
        "id": "BC58Gbw4f9_X"
      }
    },
    {
      "cell_type": "code",
      "source": [
        "x = 10\n",
        "y = 20 \n",
        "print(\"x = \" + str(x))\n",
        "print(\"y = \" + str(y))"
      ],
      "metadata": {
        "colab": {
          "base_uri": "https://localhost:8080/"
        },
        "id": "Knht3o8Xjr4b",
        "outputId": "ce0ddf9a-ec75-4913-bf72-a156947c43c6"
      },
      "execution_count": null,
      "outputs": [
        {
          "output_type": "stream",
          "name": "stdout",
          "text": [
            "x = 10\n",
            "y = 20\n"
          ]
        }
      ]
    },
    {
      "cell_type": "code",
      "source": [
        "alısverisListe = \"Domates, Marul, Üzüm, Süt, Ekmek\"\n",
        "print(\"Alışveriş Listesi: \" +alısverisListe)"
      ],
      "metadata": {
        "colab": {
          "base_uri": "https://localhost:8080/"
        },
        "id": "VWhpXB4zgFJ8",
        "outputId": "9e7990c3-47cf-443f-daa5-4b54bd60e182"
      },
      "execution_count": null,
      "outputs": [
        {
          "output_type": "stream",
          "name": "stdout",
          "text": [
            "Alışveriş Listesi: Domates, Marul, Üzüm, Süt, Ekmek\n"
          ]
        }
      ]
    },
    {
      "cell_type": "code",
      "source": [
        "hastaAd = \"Bilge\"\n",
        "hastaSoyad = \"Abacı\"\n",
        "print(\"Hastanın Adı: \" + hastaAd)\n",
        "print(\"Hastanın Soyadı: \" + hastaSoyad)"
      ],
      "metadata": {
        "colab": {
          "base_uri": "https://localhost:8080/"
        },
        "id": "T7rEkXWqinyD",
        "outputId": "8e4c08b1-e79f-4208-ec36-7a91102269d6"
      },
      "execution_count": null,
      "outputs": [
        {
          "output_type": "stream",
          "name": "stdout",
          "text": [
            "Hastanın Adı: Bilge\n",
            "Hastanın Soyadı: Abacı\n"
          ]
        }
      ]
    },
    {
      "cell_type": "markdown",
      "source": [
        "Görev: Yaş Hesaplama Programı oluştur."
      ],
      "metadata": {
        "id": "VAbydxJPyY2E"
      }
    },
    {
      "cell_type": "code",
      "source": [
        "print(\"Yaş Hesaplama Programı\")\n",
        "buYil = 2023\n",
        "dogumTarihi = input(\"Doğum tarihinizi giriniz: \")\n",
        "yas = buYil - int(dogumTarihi)\n",
        "print(\"Yaşınız: \" + str (yas))"
      ],
      "metadata": {
        "colab": {
          "base_uri": "https://localhost:8080/"
        },
        "id": "ddhB7psTlAnt",
        "outputId": "25cfec8a-2b00-40f9-a0ab-cd1ca7e874c3"
      },
      "execution_count": null,
      "outputs": [
        {
          "output_type": "stream",
          "name": "stdout",
          "text": [
            "Yaş Hesaplama Programı\n",
            "Doğum tarihinizi giriniz: 2002\n",
            "Yaşınız: 21\n"
          ]
        }
      ]
    },
    {
      "cell_type": "code",
      "source": [
        "# 19 Mart 2023 Yarışma Programı\n",
        "print(\"***Yarışma Başladı***\")\n",
        "print(\"Lütfen sorulara evet ya da hayır şeklinde cevap veriniz...\")\n",
        "print(\"1. Soru: Kediler uzaylı mıdır?\")\n",
        "soru1 = \"evet\"\n",
        "cevap1 = input(\"Cevap: \")\n",
        "print(soru1 == cevap1)\n",
        "\n",
        "print(\"2. Soru: Kedilerin boynuzu var mıdır?\")\n",
        "soru2 = \"hayır\"\n",
        "cevap2 = input(\"Cevap: \")\n",
        "print(soru2 == cevap2)\n",
        "\n",
        "print(\"3. Soru: Mavi renkte kedi var mıdır?\")\n",
        "soru3 = \"hayır\"\n",
        "cevap3 = input(\"Cevap: \")\n",
        "print(soru3 == cevap3)\n"
      ],
      "metadata": {
        "colab": {
          "base_uri": "https://localhost:8080/"
        },
        "id": "fqC2WeImzonq",
        "outputId": "c0306c8e-931c-45bb-d35a-8dd9ebecff5a"
      },
      "execution_count": null,
      "outputs": [
        {
          "output_type": "stream",
          "name": "stdout",
          "text": [
            "***Yarışma Başladı***\n",
            "Lütfen sorulara evet ya da hayır şeklinde cevap veriniz...\n",
            "1. Soru: Kediler uzaylı mıdır?\n",
            "Cevap: hayır\n",
            "False\n",
            "2. Soru: Kedilerin boynuzu var mıdır?\n",
            "Cevap: evet\n",
            "False\n",
            "3. Soru: Mavi renkte kedi var mıdır?\n",
            "Cevap: hayır\n",
            "True\n"
          ]
        }
      ]
    },
    {
      "cell_type": "code",
      "source": [
        "karsilama = input(\"Adınızı ve Soyadınızı giriniz: \")\n",
        "print(\"Merhaba, \" + karsilama)\n"
      ],
      "metadata": {
        "colab": {
          "base_uri": "https://localhost:8080/"
        },
        "id": "bPBfFXNoobQ-",
        "outputId": "7d44eaff-87ac-45c4-a68f-55c03798a385"
      },
      "execution_count": null,
      "outputs": [
        {
          "output_type": "stream",
          "name": "stdout",
          "text": [
            "Adınızı ve Soyadınızı giriniz: Şevval Şengün\n",
            "Merhaba, Şevval Şengün\n"
          ]
        }
      ]
    },
    {
      "cell_type": "code",
      "source": [
        "adSoyad = \"Şevval Şengün\"\n",
        "dogumTarihi = 2002\n",
        "kilo = 65 \n",
        "boy = \"163 cm\"\n",
        "cinsiyet = \"kadın\"\n",
        "kronikHastalık = \"yok\"\n",
        "print(\"***Hasta Bilgileri***\")\n",
        "print(\"Adı Soyadı: \" + adSoyad)\n",
        "print(\"Doğum Yılı: \" + str(dogumTarihi))\n",
        "print(\"Kilosu: \" + str(kilo))\n",
        "print(\"Cinsiyeti: \" + cinsiyet)\n",
        "print(\"Kronik Hastalığı: \" + kronikHastalık)"
      ],
      "metadata": {
        "colab": {
          "base_uri": "https://localhost:8080/"
        },
        "id": "jRxi508epZYN",
        "outputId": "300de3cb-61b2-4f29-a041-879572ef27ac"
      },
      "execution_count": 2,
      "outputs": [
        {
          "output_type": "stream",
          "name": "stdout",
          "text": [
            "***Hasta Bilgileri***\n",
            "Adı Soyadı: Şevval Şengün\n",
            "Doğum Yılı: 2002\n",
            "Kilosu: 65\n",
            "Cinsiyeti: kadın\n",
            "Kronik Hastalığı: yok\n"
          ]
        }
      ]
    },
    {
      "cell_type": "code",
      "source": [
        "#Fonksiyon alıştırması\n",
        "\n",
        "print(\"Burs başvurusu yapan kişilerin bilgileri aşağıda yer almaktadır.\")\n",
        "\n",
        "print(\"1. Kişi\")\n",
        "def bilgiGirisi(ad, soyad, yas, sehir, okul, bolum):\n",
        "  print(\"-\"*20)\n",
        "  \n",
        "  print(\"Ad:\", ad)\n",
        "  print(\"Soyad:\", soyad)\n",
        "  print(\"Yaş:\", yas)\n",
        "  print(\"Şehir:\", sehir)\n",
        "  print(\"Okul:\", okul)\n",
        "  print(\"Bölüm:\", bolum)\n",
        "\n",
        "  print(\"-\"*20)\n",
        "\n",
        "bilgiGirisi(\"Şevval\", \"Şengün\", \"20\", \"Ankara\", \"Hacettepe Üniversitesi\", \"Bilgi ve Belge Yönetimi\")\n",
        "\n",
        "print(\"2. Kişi\")\n",
        "\n",
        "bilgiGirisi(\"Bilge\", \"Abacı\", \"20\", \"Mersin\", \"Hacettepe Üniversitesi\", \"Kimya Mühendisliği\")\n",
        "\n"
      ],
      "metadata": {
        "colab": {
          "base_uri": "https://localhost:8080/"
        },
        "id": "zrYlO5bZdzB7",
        "outputId": "214785c2-c7a4-430a-d0ab-530b03b1c982"
      },
      "execution_count": 1,
      "outputs": [
        {
          "output_type": "stream",
          "name": "stdout",
          "text": [
            "Burs başvurusu yapan kişilerin bilgileri aşağıda yer almaktadır.\n",
            "1. Kişi\n",
            "--------------------\n",
            "Ad: Şevval\n",
            "Soyad: Şengün\n",
            "Yaş: 20\n",
            "Şehir: Ankara\n",
            "Okul: Hacettepe Üniversitesi\n",
            "Bölüm: Bilgi ve Belge Yönetimi\n",
            "--------------------\n",
            "2. Kişi\n",
            "--------------------\n",
            "Ad: Bilge\n",
            "Soyad: Abacı\n",
            "Yaş: 20\n",
            "Şehir: Mersin\n",
            "Okul: Hacettepe Üniversitesi\n",
            "Bölüm: Kimya Mühendisliği\n",
            "--------------------\n"
          ]
        }
      ]
    }
  ]
}