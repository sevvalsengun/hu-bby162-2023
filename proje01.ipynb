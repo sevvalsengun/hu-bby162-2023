{
  "nbformat": 4,
  "nbformat_minor": 0,
  "metadata": {
    "colab": {
      "provenance": [],
      "authorship_tag": "ABX9TyN2yRUL+hj6kBTwVU9TpZuA",
      "include_colab_link": true
    },
    "kernelspec": {
      "name": "python3",
      "display_name": "Python 3"
    },
    "language_info": {
      "name": "python"
    }
  },
  "cells": [
    {
      "cell_type": "markdown",
      "metadata": {
        "id": "view-in-github",
        "colab_type": "text"
      },
      "source": [
        "<a href=\"https://colab.research.google.com/github/sevvalsengun/hu-bby162-2023/blob/main/proje01.ipynb\" target=\"_parent\"><img src=\"https://colab.research.google.com/assets/colab-badge.svg\" alt=\"Open In Colab\"/></a>"
      ]
    },
    {
      "cell_type": "code",
      "source": [
        "#listeye iş ekleme işlemi\n",
        "isler = input(\"Yapılacak işi giriniz: \")\n",
        "yapilacaklar.append(isler)"
      ],
      "metadata": {
        "id": "QFD0X5X0jRWb",
        "outputId": "25ace960-f3a9-4d77-de75-781d1abadfdc",
        "colab": {
          "base_uri": "https://localhost:8080/"
        }
      },
      "execution_count": 153,
      "outputs": [
        {
          "name": "stdout",
          "output_type": "stream",
          "text": [
            "Yapılacak işi giriniz: çamaşırları yıka\n"
          ]
        }
      ]
    },
    {
      "cell_type": "code",
      "source": [
        "print(yapilacaklar)"
      ],
      "metadata": {
        "colab": {
          "base_uri": "https://localhost:8080/"
        },
        "id": "bMkWWteY8zOT",
        "outputId": "edad518e-8320-482d-d15d-8bde0d8c46d7"
      },
      "execution_count": 154,
      "outputs": [
        {
          "output_type": "stream",
          "name": "stdout",
          "text": [
            "['evi topla', 'ders çalış', 'oje sür', 'bulaşıkları yerleştir', 'kedinin mamasını yenile', 'ödevleri tamamla', 'spor yap', 'yemek yap', 'evi süpür', 'mutfak alışverişi yap', 'çamaşırları yıka']\n"
          ]
        }
      ]
    },
    {
      "cell_type": "code",
      "source": [
        "#listeden iş çıkarmak için ilk köşeli parantezin içine işin indeks numarası girmeliyiz.\n",
        "yapilacaklar[2] = []\n",
        "print(yapilacaklar)"
      ],
      "metadata": {
        "colab": {
          "base_uri": "https://localhost:8080/"
        },
        "id": "csfklSJd1s_U",
        "outputId": "a612a7e1-2fe1-4786-93e1-cf9abd38d7e2"
      },
      "execution_count": 155,
      "outputs": [
        {
          "output_type": "stream",
          "name": "stdout",
          "text": [
            "['evi topla', 'ders çalış', [], 'bulaşıkları yerleştir', 'kedinin mamasını yenile', 'ödevleri tamamla', 'spor yap', 'yemek yap', 'evi süpür', 'mutfak alışverişi yap', 'çamaşırları yıka']\n"
          ]
        }
      ]
    },
    {
      "cell_type": "code",
      "source": [
        "#güncellemek istediğimiz işin indeks numarasını köşeli parantezin içine yazmalıyız, tırnak içerisine yeni ifadeyi yazmalıyız.\n",
        "yapilacaklar[4] = \"kedinin mamasını ve suyunu yenile\"\n",
        "print(yapilacaklar)"
      ],
      "metadata": {
        "colab": {
          "base_uri": "https://localhost:8080/"
        },
        "id": "yDY6oxmq3sTF",
        "outputId": "c5fe90c6-58ba-44e9-a883-ef6e553eb862"
      },
      "execution_count": 157,
      "outputs": [
        {
          "output_type": "stream",
          "name": "stdout",
          "text": [
            "['evi topla', 'ders çalış', [], 'bulaşıkları yerleştir', 'kedinin mamasını ve suyunu yenile', 'ödevleri tamamla', 'spor yap', 'yemek yap', 'evi süpür', 'mutfak alışverişi yap', 'çamaşırları yıka']\n"
          ]
        }
      ]
    },
    {
      "cell_type": "code",
      "execution_count": 158,
      "metadata": {
        "id": "npexhGdFjFPh",
        "colab": {
          "base_uri": "https://localhost:8080/"
        },
        "outputId": "2e7b7529-859a-4a0f-fcef-2f1f113fe219"
      },
      "outputs": [
        {
          "output_type": "stream",
          "name": "stdout",
          "text": [
            "[]\n"
          ]
        }
      ],
      "source": [
        "#listeyi temizleme işlemi \n",
        "yapilacaklar[:] = []\n",
        "print(yapilacaklar)"
      ]
    }
  ]
}